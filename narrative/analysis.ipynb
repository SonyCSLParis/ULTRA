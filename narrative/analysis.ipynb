{
 "cells": [
  {
   "cell_type": "code",
   "execution_count": null,
   "metadata": {},
   "outputs": [],
   "source": [
    "import os\n",
    "import pandas as pd"
   ]
  },
  {
   "cell_type": "code",
   "execution_count": null,
   "metadata": {},
   "outputs": [],
   "source": [
    "def read_output_run_many(fp):\n",
    "    \"\"\" Output of zero-shot \"\"\"\n",
    "    with open(fp, 'r', encoding='utf-8') as f:\n",
    "        lines = f.readlines()\n",
    "    lines = [line.strip() for line in lines]\n",
    "    \n",
    "    data = []\n",
    "    for l in lines:\n",
    "        if len(l.split(',')) > 1:\n",
    "            data.append(l.split(','))\n",
    "    return pd.DataFrame(data, columns=[\"dataset\", \"mr\", \"mrr\", \"hits@1\", \"hits@3\", \"hits@10\"])\n",
    "\n",
    "def add_info_dataset(row):\n",
    "    for name in [\"prop\", \"subevent\", \"role\", \"causation\"]:\n",
    "        row[name] = 1 if f\"{name.capitalize()}1\" in row[\"dataset\"] else 0\n",
    "    row[\"syntax\"] = row[\"dataset\"].split(\"Syntax\")[1]\n",
    "    return row"
   ]
  },
  {
   "cell_type": "code",
   "execution_count": null,
   "metadata": {},
   "outputs": [],
   "source": [
    "import re\n",
    "import os\n",
    "import subprocess\n",
    "from tqdm import tqdm\n",
    "\n",
    "def get_info_folder_name(folder):\n",
    "    \"\"\"Extract training parameters from folder name using regex\"\"\"\n",
    "    try:\n",
    "        bpe = int(folder.split(\"bpe_\")[1].split(\"_\")[0])\n",
    "    except:\n",
    "        bpe = 0\n",
    "    \n",
    "    return {\n",
    "        'checkpoint': folder.split(\"ckpt_\")[1].split(\"_\")[0],\n",
    "        'epochs': int(folder.split(\"epochs_\")[1].split(\"_\")[0]),\n",
    "        'batch_per_epoch': folder.split(\"bpe_\")[1].split(\"_\")[0],\n",
    "        'batch_size': int(folder.split(\"bs_\")[1].split(\"_\")[0])\n",
    "    }\n",
    "\n",
    "def read_all(folder):\n",
    "    data = []\n",
    "    modes = os.listdir(folder)\n",
    "    for m in modes:\n",
    "        settings = os.listdir(os.path.join(folder, m))\n",
    "        for s in tqdm(settings):\n",
    "            params = get_info_folder_name(s)\n",
    "            pf = os.path.join(folder, m, s)\n",
    "            command = f\"python get_model_results.py {pf}\"\n",
    "            if not os.path.exists(os.path.join(pf, \"results.csv\")):\n",
    "                subprocess.run(command, shell=True)\n",
    "            df = pd.read_csv(os.path.join(pf, \"results.csv\"), index_col=0)\n",
    "            for k, v in params.items():\n",
    "                df[k] = v\n",
    "            df[\"mode\"] = m\n",
    "            data.append(df)\n",
    "    return pd.concat(data)\n"
   ]
  },
  {
   "cell_type": "code",
   "execution_count": null,
   "metadata": {},
   "outputs": [],
   "source": [
    "df = read_all(\"experiments/inductive\")\n",
    "df.head(5)"
   ]
  },
  {
   "cell_type": "code",
   "execution_count": null,
   "metadata": {},
   "outputs": [],
   "source": [
    "import plotly.express as px\n",
    "\n",
    "mappings = {}\n",
    "for col in [\"syntax\", \"mode\"]:\n",
    "    # Create mapping dictionary\n",
    "    categories = df[col].unique()\n",
    "    mapping = {cat: i for i, cat in enumerate(categories)}\n",
    "    # Add numeric version of the column\n",
    "    df[f\"{col}_numeric\"] = df[col].map(mapping)\n",
    "    mappings[col] = mapping\n",
    "\n",
    "for k, v in mappings.items():\n",
    "    print(f\"{k}: {v}\")\n",
    "\n",
    "# Create dimensions for the parallel coordinates plot\n",
    "dimensions = prepare_dimensions(df, [\"prop\", \"subevent\", \"role\", \"causation\"])\n",
    "fig = px.parallel_coordinates(\n",
    "    df, color=\"test_mrr\",\n",
    "    dimensions=[\"mode_numeric\", \"prop\", \"subevent\", \"role\", \"causation\", \"syntax_numeric\", \"epochs\", \"batch_per_epoch\", \"batch_size\"]\n",
    ")\n",
    "fig.show()"
   ]
  },
  {
   "cell_type": "code",
   "execution_count": null,
   "metadata": {},
   "outputs": [],
   "source": []
  },
  {
   "cell_type": "code",
   "execution_count": null,
   "metadata": {},
   "outputs": [],
   "source": []
  }
 ],
 "metadata": {
  "kernelspec": {
   "display_name": "ULTRA",
   "language": "python",
   "name": "python3"
  },
  "language_info": {
   "codemirror_mode": {
    "name": "ipython",
    "version": 3
   },
   "file_extension": ".py",
   "mimetype": "text/x-python",
   "name": "python",
   "nbconvert_exporter": "python",
   "pygments_lexer": "ipython3",
   "version": "3.10.0"
  }
 },
 "nbformat": 4,
 "nbformat_minor": 2
}
